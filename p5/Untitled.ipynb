{
 "cells": [
  {
   "cell_type": "code",
   "execution_count": 12,
   "id": "4369a3d4",
   "metadata": {},
   "outputs": [],
   "source": [
    "from logicPlan import * "
   ]
  },
  {
   "cell_type": "code",
   "execution_count": 13,
   "id": "8b26181f",
   "metadata": {},
   "outputs": [
    {
     "data": {
      "text/plain": [
       "{B: True, A: False, C: True}"
      ]
     },
     "execution_count": 13,
     "metadata": {},
     "output_type": "execute_result"
    }
   ],
   "source": [
    "findModel(sentence1())"
   ]
  },
  {
   "cell_type": "code",
   "execution_count": 14,
   "id": "7066af00",
   "metadata": {},
   "outputs": [
    {
     "data": {
      "text/plain": [
       "False"
      ]
     },
     "execution_count": 14,
     "metadata": {},
     "output_type": "execute_result"
    }
   ],
   "source": [
    "findModel(sentence2())"
   ]
  },
  {
   "cell_type": "code",
   "execution_count": 15,
   "id": "9d109b22",
   "metadata": {},
   "outputs": [
    {
     "data": {
      "text/plain": [
       "{PacmanAlive_0_0: False,\n",
       " PacmanAlive_1_1: True,\n",
       " PacmanKilled_0_0: False,\n",
       " PacmanBorn_0_0: True}"
      ]
     },
     "execution_count": 15,
     "metadata": {},
     "output_type": "execute_result"
    }
   ],
   "source": [
    "findModel(sentence3())"
   ]
  },
  {
   "cell_type": "code",
   "execution_count": 16,
   "id": "e5f6f819",
   "metadata": {},
   "outputs": [
    {
     "ename": "SyntaxError",
     "evalue": "Unacceptable symbol base name (a). Name must start with an upper-case alphabetic character that and is not TRUE or FALSE. Furthermore, only the following are allowed: capital and lower case alphabetic, 0-9, _, \",\", [, and ]. (<string>)",
     "output_type": "error",
     "traceback": [
      "Traceback \u001b[0;36m(most recent call last)\u001b[0m:\n",
      "  File \u001b[1;32m\"/opt/anaconda3/lib/python3.8/site-packages/IPython/core/interactiveshell.py\"\u001b[0m, line \u001b[1;32m3437\u001b[0m, in \u001b[1;35mrun_code\u001b[0m\n    exec(code_obj, self.user_global_ns, self.user_ns)\n",
      "  File \u001b[1;32m\"<ipython-input-16-0aed885a46f3>\"\u001b[0m, line \u001b[1;32m1\u001b[0m, in \u001b[1;35m<module>\u001b[0m\n    findModel(Expr('a'))\n",
      "\u001b[0;36m  File \u001b[0;32m\"/Users/yannizhang/Desktop/BigRed/Spring2024/CS5700/homework5/logic.py\"\u001b[0;36m, line \u001b[0;32m85\u001b[0;36m, in \u001b[0;35m__init__\u001b[0;36m\u001b[0m\n\u001b[0;31m    raise SyntaxError(\"Unacceptable symbol base name (%s). Name must start with an upper-case alphabetic character that and is not TRUE or FALSE. Furthermore, only the following are allowed: capital and lower case alphabetic, 0-9, _, \\\",\\\", [, and ].\" % self.op)\u001b[0m\n",
      "\u001b[0;36m  File \u001b[0;32m\"<string>\"\u001b[0;36m, line \u001b[0;32munknown\u001b[0m\n\u001b[0;31mSyntaxError\u001b[0m\u001b[0;31m:\u001b[0m Unacceptable symbol base name (a). Name must start with an upper-case alphabetic character that and is not TRUE or FALSE. Furthermore, only the following are allowed: capital and lower case alphabetic, 0-9, _, \",\", [, and ].\n"
     ]
    }
   ],
   "source": [
    "findModel(Expr('a'))"
   ]
  },
  {
   "cell_type": "code",
   "execution_count": null,
   "id": "cfa9c6eb",
   "metadata": {},
   "outputs": [],
   "source": []
  }
 ],
 "metadata": {
  "kernelspec": {
   "display_name": "Python 3",
   "language": "python",
   "name": "python3"
  },
  "language_info": {
   "codemirror_mode": {
    "name": "ipython",
    "version": 3
   },
   "file_extension": ".py",
   "mimetype": "text/x-python",
   "name": "python",
   "nbconvert_exporter": "python",
   "pygments_lexer": "ipython3",
   "version": "3.8.8"
  }
 },
 "nbformat": 4,
 "nbformat_minor": 5
}
